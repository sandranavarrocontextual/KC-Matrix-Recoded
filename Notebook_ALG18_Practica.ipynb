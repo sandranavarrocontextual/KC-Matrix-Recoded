{
 "cells": [
  {
   "cell_type": "markdown",
   "metadata": {},
   "source": [
    "# Practica de Algebra lineal\n",
    "\n",
    "### *Nombre*"
   ]
  },
  {
   "cell_type": "markdown",
   "metadata": {},
   "source": [
    "<span style=\"color:blue\">Ejercicio 1:  \n",
    "Usando los procedimientos add y mult_vector_escalar definidos anteriormente, calcular:   \n",
    "{$\\alpha$[1,2]+[3,4] : $\\alpha$$\\in$$\\mathbb{R}$, 0$\\leq$$\\alpha$$\\leq$1, con una precision de dos decimales (para la multiplicación)}</style>"
   ]
  },
  {
   "cell_type": "code",
   "execution_count": null,
   "metadata": {},
   "outputs": [],
   "source": [
    "def mult_vector_escalar(alpha, v):\n",
    "    return [alpha*v[i] for i in range(len(v))]\n",
    "\n",
    "[add(mult_vector_escalar(i/100,[1,2]),[3,4]) for i in range(101)]"
   ]
  },
  {
   "cell_type": "markdown",
   "metadata": {},
   "source": [
    "<span style=\"color:blue\">Ejercicio 2:  \n",
    "Mortadelo y Filemón usan como clave el siguiente vector:</style>  \n",
    "> <span style=\"color:blue\">**k**=[0,1,0,0,1,0,1,0,1,0]</style>  \n",
    "\n",
    "<span style=\"color:blue\">Mortadelo quiere enviarle a Filemón el siguiente mensaje:</style>  \n",
    "> <span style=\"color:blue\">**p**=[0,0,0,1,1,1,0,1,0,1]</style>  \n",
    "\n",
    "<span style=\"color:blue\">Mortadelo encripta su mensaje añadiendo k:</style>  \n",
    "> <span style=\"color:blue\">**c**=**p**+**k**=[0,0,0,1,1,1,0,1,0,1]+[0,1,0,0,1,0,1,0,1,0]=[0,1,0,1,0,1,1,1,1,1]</style>  \n",
    "\n",
    "<span style=\"color:blue\">Cuando Filemón recibe el mensaje, lo desencripta añadiendo **k** a lo que ha recibido</style>  \n",
    "> <span style=\"color:blue\">**p**=**c**+**k**=[0,1,0,1,0,1,1,1,1,1]+[0,1,0,0,1,0,1,0,1,0]=[0,0,0,1,1,1,0,1,0,1]</style>    \n",
    "\n",
    "<span style=\"color:blue\">que es el mensaje original</style>    \n",
    "  \n",
    " <span style=\"color:blue\">¿Cómo lo harías en Python? (Definiendo un procedimiento)</style>  "
   ]
  },
  {
   "cell_type": "code",
   "execution_count": 2,
   "metadata": {},
   "outputs": [
    {
     "name": "stdout",
     "output_type": "stream",
     "text": [
      "[0, 0, 0, 1, 1, 1, 0, 1, 0, 1]\n"
     ]
    }
   ],
   "source": [
    "def addGF(v,w):\n",
    "    vw = []\n",
    "    for i in range(len(v)):\n",
    "        if (v[i] == w[i]):\n",
    "            vw.append(0)\n",
    "        else:\n",
    "            vw.append(1)\n",
    "    return vw\n",
    "\n",
    "clave=[0,1,0,0,1,0,1,0,1,0] \n",
    "\n",
    "def encriptarMensaje(mens):\n",
    "    mensEncriptado = addGF(mens, clave)\n",
    "    return mensEncriptado\n",
    "\n",
    "def desencriptarMensaje(mensCrip):\n",
    "    mensDesencriptado = addGF(mensCrip, clave)\n",
    "    return mensDesencriptado\n",
    "\n",
    "p = [0,0,0,1,1,1,0,1,0,1] \n",
    "Mortadelo = encriptarMensaje(p)\n",
    "Filemon = desencriptarMensaje(Mortadelo)\n",
    "print(Filemon) "
   ]
  },
  {
   "cell_type": "markdown",
   "metadata": {},
   "source": [
    "<span style=\"color:blue\">Ejercicio 3: coste total o beneficio. </style>\n",
    "\n",
    "<span style=\"color:blue\">Supongamos que D es el conjunto de algunos ingredientes de la cerveza: </style>\n",
    "> <span style=\"color:blue\">D={lúpulo, malta, agua, levadura}</style>  \n",
    "\n",
    "<span style=\"color:blue\">Por otro lado tenemos el vector coste:</style>  \n",
    "> <span style=\"color:blue\">coste={lúpulo: 2,5€, malta: 1.5€, agua: 0.006€, levadura: 0,45€}</style>  \n",
    "\n",
    "<span style=\"color:blue\">Por último tenemos el vector cantidad con lo necesario para hacer una cerveza:</style>  \n",
    "> <span style=\"color:blue\">cantidad={lúpulo: 6u, malta: 14u, agua: 7u, levadura: 11u}</style>  \n",
    "\n",
    "<span style=\"color:blue\">¿Cuánto cuesta hacer una cerveza?</style> "
   ]
  },
  {
   "cell_type": "code",
   "execution_count": 4,
   "metadata": {},
   "outputs": [
    {
     "name": "stdout",
     "output_type": "stream",
     "text": [
      "40.992000000000004\n"
     ]
    }
   ],
   "source": [
    "def producto_vectorial(u,v):\n",
    "    return sum(u[i]*v[i] for i in range(len(u)))\n",
    "\n",
    "coste={\"lupulo\":2.5, \"malta\":1.5, \"agua\":0.006, \"levadura\":0.45} \n",
    "cantidad={\"lupulo\": 6, \"malta\": 14, \"agua\": 7, \"levadura\": 11} \n",
    "\n",
    "costeCerveza = producto_vectorial(list(coste.values()), list(cantidad.values()))\n",
    "print (costeCerveza)"
   ]
  },
  {
   "cell_type": "markdown",
   "metadata": {},
   "source": [
    "<span style=\"color:blue\"> Ejercicio 4:   \n",
    "¿Cómo escribirías cada uno de los vectores {[3,0,0],[0,2,0],[0,0,1]} como combinación lineal de {[2,0,1],[1,0,2],[2,2,2]}?\n",
    "Escribe las combinaciones lineales en Python. Seguramente tenga que definir una nueva suma.</style>"
   ]
  },
  {
   "cell_type": "code",
   "execution_count": 5,
   "metadata": {},
   "outputs": [],
   "source": [
    "def addnR3(u,v,w):\n",
    "    return[u[i]+v[i]+w[i] for i in range(len(u))]\n",
    "\n",
    "def mult_vector_escalar(alpha,v):\n",
    "    return [alpha*v[i] for i in range(len(v))]"
   ]
  },
  {
   "cell_type": "code",
   "execution_count": 6,
   "metadata": {},
   "outputs": [
    {
     "data": {
      "text/plain": [
       "[3, 0, 0]"
      ]
     },
     "execution_count": 6,
     "metadata": {},
     "output_type": "execute_result"
    }
   ],
   "source": [
    "# [2,-1,0] => 2·[2,0,1]+(-1)·[1,0,2]+0·[2,2,2]\n",
    "addnR3(mult_vector_escalar(2,[2,0,1]),mult_vector_escalar(-1,[1,0,2]),mult_vector_escalar(0,[2,2,2]))"
   ]
  },
  {
   "cell_type": "code",
   "execution_count": 7,
   "metadata": {},
   "outputs": [
    {
     "data": {
      "text/plain": [
       "[0.0, 2.0, 0.0]"
      ]
     },
     "execution_count": 7,
     "metadata": {},
     "output_type": "execute_result"
    }
   ],
   "source": [
    "# [-2/3,-2/3,1] => -2/3·[2,0,1]+(-2/3)·[1,0,2]+1·[2,2,2]\n",
    "addnR3(mult_vector_escalar(-2/3,[2,0,1]),mult_vector_escalar(-2/3,[1,0,2]),mult_vector_escalar(1,[2,2,2]))"
   ]
  },
  {
   "cell_type": "code",
   "execution_count": 8,
   "metadata": {},
   "outputs": [
    {
     "data": {
      "text/plain": [
       "[0.0, 0.0, 1.0]"
      ]
     },
     "execution_count": 8,
     "metadata": {},
     "output_type": "execute_result"
    }
   ],
   "source": [
    "# [-1/3,2/3,0] => -1/3·[2,0,1]+(2/3)·[1,0,2]+0·[2,2,2]\n",
    "addnR3(mult_vector_escalar(-1/3,[2,0,1]),mult_vector_escalar(2/3,[1,0,2]),mult_vector_escalar(0,[2,2,2]))"
   ]
  },
  {
   "cell_type": "markdown",
   "metadata": {},
   "source": [
    "<span style=\"color:blue\"> Ejercicio 5:  \n",
    "Dadas las matrices $\n",
    "  A=\n",
    "  \\left[ {\\begin{array}{cc}\n",
    "   2 & -3 \\\\\n",
    "   -4 & 6\\\\\n",
    "  \\end{array} } \\right]\n",
    "$ , $\n",
    "  B=\n",
    "  \\left[ {\\begin{array}{cc}\n",
    "   8 & 4 \\\\\n",
    "   5 & 5\\\\\n",
    "  \\end{array} } \\right]\n",
    "$\n",
    "y $\n",
    "  C=\n",
    "  \\left[ {\\begin{array}{cc}\n",
    "   5 & -2 \\\\\n",
    "   3 & 1\\\\\n",
    "  \\end{array} } \\right]\n",
    "$, queremos verificar que AB=AC pero que B≠C.</style> "
   ]
  },
  {
   "cell_type": "code",
   "execution_count": 9,
   "metadata": {},
   "outputs": [
    {
     "data": {
      "text/plain": [
       "matrix([[ 1, -7],\n",
       "        [-2, 14]])"
      ]
     },
     "execution_count": 9,
     "metadata": {},
     "output_type": "execute_result"
    }
   ],
   "source": [
    "import numpy as np\n",
    "\n",
    "A=np.matrix([\n",
    "    [2,-3],\n",
    "    [-4,6]\n",
    "])\n",
    "\n",
    "B=np.matrix([\n",
    "    [8,4],\n",
    "    [5,5]\n",
    "])\n",
    "\n",
    "A*B"
   ]
  },
  {
   "cell_type": "code",
   "execution_count": 10,
   "metadata": {},
   "outputs": [
    {
     "data": {
      "text/plain": [
       "matrix([[ 1, -7],\n",
       "        [-2, 14]])"
      ]
     },
     "execution_count": 10,
     "metadata": {},
     "output_type": "execute_result"
    }
   ],
   "source": [
    "import numpy as np\n",
    "\n",
    "A=np.matrix([\n",
    "    [2,-3],\n",
    "    [-4,6]\n",
    "])\n",
    "\n",
    "C=np.matrix([\n",
    "    [5,-2],\n",
    "    [3,1]\n",
    "])\n",
    "\n",
    "A*C"
   ]
  },
  {
   "cell_type": "code",
   "execution_count": 11,
   "metadata": {},
   "outputs": [
    {
     "data": {
      "text/plain": [
       "matrix([[False, False],\n",
       "        [False, False]])"
      ]
     },
     "execution_count": 11,
     "metadata": {},
     "output_type": "execute_result"
    }
   ],
   "source": [
    "import numpy as np\n",
    "\n",
    "B=np.matrix([\n",
    "    [8,4],\n",
    "    [5,5]\n",
    "])\n",
    "\n",
    "C=np.matrix([\n",
    "    [5,-2],\n",
    "    [3,1]\n",
    "])\n",
    "\n",
    "B == C"
   ]
  },
  {
   "cell_type": "markdown",
   "metadata": {},
   "source": [
    "<span style=\"color:blue\"> Ejercicio 6 :  \n",
    "Dadas la matriz $\n",
    "  A=\n",
    "  \\left[ {\\begin{array}{cc}\n",
    "   3 & -6 \\\\\n",
    "   -1 & 2\\\\\n",
    "  \\end{array} } \\right]\n",
    "$ , construye una matriz B de 2 × 2 tal que AB sea igual a la matriz cero. Las columnas de B no deben ser iguales entre sí y deben ser distintas de cero.\n",
    ".</style> "
   ]
  },
  {
   "cell_type": "code",
   "execution_count": 12,
   "metadata": {},
   "outputs": [
    {
     "data": {
      "text/plain": [
       "matrix([[0, 0],\n",
       "        [0, 0]])"
      ]
     },
     "execution_count": 12,
     "metadata": {},
     "output_type": "execute_result"
    }
   ],
   "source": [
    "# Creamos matriz B con 4 incógnitas para crear un sistema de 4 ecuaciones con 8 incógnitas:\n",
    "# 3x-6z = 0\n",
    "# 3y -6W = 0\n",
    "# -x +2Z = 0\n",
    "# -y + 2w = 0\n",
    "# Resolvemos el sistema de ecuaciones y una de las posibles soluciones es la matriz B definida abajo. Probamos el producto\n",
    "# y verificamos que la multiplicacion de las matrices es la matriz cero y se cumple que las columnas de B no son iguales\n",
    "# entre si y son distintas de cero.\n",
    "\n",
    "import numpy as np\n",
    "\n",
    "A=np.matrix([\n",
    "    [3,-6],\n",
    "    [-1,2]\n",
    "])\n",
    "\n",
    "B=np.matrix([\n",
    "    [2,4],\n",
    "    [1,2]\n",
    "])\n",
    "\n",
    "A*B"
   ]
  },
  {
   "cell_type": "markdown",
   "metadata": {},
   "source": [
    "<span style=\"color:blue\"> Ejercicio 7:  \n",
    "Sarrus para el determinante de orden 3.  \n",
    "¿Cómo lo haríamos en Python?</style>"
   ]
  },
  {
   "cell_type": "code",
   "execution_count": 13,
   "metadata": {},
   "outputs": [
    {
     "name": "stdout",
     "output_type": "stream",
     "text": [
      "Determinante =  15\n"
     ]
    }
   ],
   "source": [
    "# Regla de Cramer para el determinante de orden 3\n",
    "\n",
    "import numpy as np\n",
    "A=np.matrix([\n",
    "    [1,-4,2],\n",
    "    [-2,8,-9],\n",
    "    [-1,7,0]\n",
    "])\n",
    "\n",
    "x = 0\n",
    "y = 0\n",
    "for i in range (0,3):\n",
    "    x = x + (A[0,i]) * (A[1,(i+1)%3]) * (A[2,(i+2)%3])\n",
    "    y = y + (A[2,i]) * (A[1,(i+1)%3]) * (A[0,(i+2)%3])\n",
    "\n",
    "print (\"Determinante = \", x-y)\n"
   ]
  },
  {
   "cell_type": "markdown",
   "metadata": {},
   "source": [
    "<span style=\"color:blue\"> Ejercicio 8:  \n",
    "Sabemos que hay un modo directo en Python para calcular los rangos. Calcula el número de soluciones de estos tres sistemas de ecuaciones empleándolo.</style> "
   ]
  },
  {
   "cell_type": "markdown",
   "metadata": {},
   "source": [
    "> <span style=\"color:blue\">x<sub>1</sub> − 2x<sub>2</sub> + x<sub>3</sub> = 0 </style>  \n",
    "> <span style=\"color:blue\">2x<sub>2</sub>−8x<sub>3</sub>= 8  </style>  \n",
    "> <span style=\"color:blue\">−4x<sub>1</sub> + 5x<sub>2</sub> + 9x<sub>3</sub> =− 9</style>"
   ]
  },
  {
   "cell_type": "code",
   "execution_count": 14,
   "metadata": {},
   "outputs": [
    {
     "name": "stdout",
     "output_type": "stream",
     "text": [
      "El rango de la matriz es:  3\n"
     ]
    }
   ],
   "source": [
    "import numpy as np\n",
    "A=np.matrix([\n",
    "    [1,-2,1],\n",
    "    [0,2,8],\n",
    "    [-4,5,9]\n",
    "])\n",
    "rangoA=np.linalg.matrix_rank(A)\n",
    "print (\"El rango de la matriz es: \",rangoA)"
   ]
  },
  {
   "cell_type": "markdown",
   "metadata": {},
   "source": []
  },
  {
   "cell_type": "markdown",
   "metadata": {},
   "source": [
    "> <span style=\"color:blue\">x<sub>2</sub> −4x<sub>3</sub> =8  </style>  \n",
    "> <span style=\"color:blue\">2x<sub>1</sub> −3x<sub>2</sub> + 2x<sub>3</sub> =1  </style>  \n",
    "> <span style=\"color:blue\">5x<sub>1</sub> −8x<sub>2</sub> + 7x<sub>3</sub> =1</style>"
   ]
  },
  {
   "cell_type": "code",
   "execution_count": 15,
   "metadata": {},
   "outputs": [
    {
     "name": "stdout",
     "output_type": "stream",
     "text": [
      "El rango de la mmatriz es:  3\n"
     ]
    }
   ],
   "source": [
    "import numpy as np\n",
    "A=np.matrix([\n",
    "    [0,1,-4],\n",
    "    [2,3,2],\n",
    "    [-5,8,7]\n",
    "])\n",
    "rangoA=np.linalg.matrix_rank(A)\n",
    "print (\"El rango de la mmatriz es: \",rangoA)"
   ]
  },
  {
   "cell_type": "markdown",
   "metadata": {},
   "source": []
  },
  {
   "cell_type": "markdown",
   "metadata": {},
   "source": [
    "> <span style=\"color:blue\">x<sub>1</sub> +x<sub>3</sub> =2  </style>  \n",
    "> <span style=\"color:blue\">2x<sub>1</sub> +3x<sub>2</sub> + x<sub>3</sub> =3  </style>  \n",
    "> <span style=\"color:blue\">3x<sub>1</sub> +3x<sub>2</sub> + 2x<sub>3</sub> =5</style>"
   ]
  },
  {
   "cell_type": "code",
   "execution_count": 16,
   "metadata": {},
   "outputs": [
    {
     "name": "stdout",
     "output_type": "stream",
     "text": [
      "El rango de la mmatriz es:  2\n"
     ]
    }
   ],
   "source": [
    "import numpy as np\n",
    "A=np.matrix([\n",
    "    [1,0,1],\n",
    "    [2,3,1],\n",
    "    [3,3,2]\n",
    "])\n",
    "rangoA=np.linalg.matrix_rank(A)\n",
    "print (\"El rango de la mmatriz es: \",rangoA)"
   ]
  },
  {
   "cell_type": "markdown",
   "metadata": {},
   "source": []
  },
  {
   "cell_type": "markdown",
   "metadata": {},
   "source": [
    "<span style=\"color:blue\"> Ejercicio 9:  \n",
    "Comprobar que r(x,y) para un ángulo $\\theta$ es una función lineal.</style> "
   ]
  },
  {
   "cell_type": "markdown",
   "metadata": {},
   "source": []
  },
  {
   "cell_type": "markdown",
   "metadata": {},
   "source": [
    "<span style=\"color:blue\"> Ejercicio 10:  \n",
    "¿Cuál es la representación coordenada del vector v= [6, 3, 2, 5] en términos de los vectores [2, 2, 2, 3], [1, 0, −1, 0], [0, 1, 0, 1]?</style> "
   ]
  },
  {
   "cell_type": "code",
   "execution_count": 17,
   "metadata": {},
   "outputs": [
    {
     "data": {
      "text/plain": [
       "[2, 2, -1]"
      ]
     },
     "execution_count": 17,
     "metadata": {},
     "output_type": "execute_result"
    }
   ],
   "source": [
    "[2,2,-1]"
   ]
  },
  {
   "cell_type": "markdown",
   "metadata": {},
   "source": []
  },
  {
   "cell_type": "markdown",
   "metadata": {},
   "source": [
    "<span style=\"color:blue\"> Ejercicio 11:  \n",
    "Supongamos que queremos diseñar la red de internet para el otro campus universitario.  \n",
    "La red debe lograr la misma conectividad que el grafo de entrada.  \n",
    "Una arista representa un posible cable.  \n",
    "El peso de la arista es el coste de instalar el cable.  \n",
    "Nuestro objetivo es minimizar el coste total, usando el algoritmo Grow y el algoritmo Shrink.  </style> "
   ]
  },
  {
   "cell_type": "markdown",
   "metadata": {},
   "source": [
    "- Método de Grow:\n",
    "    Colocamos las aristas en orden creciente según sus pesos: 2, 7, 9. Empezamos por la primera arista: {Pembroke Campus,\n",
    "Bio-Med} y la añadimos a S. Tenemos que añadir el nodo Athletic Complex. Podemos ir desde Pembroke Campus (coste 7) o desde\n",
    "Bio-Med (coste 9). Así que cogemos la primera opción y la añadimos a S.\n",
    "\n",
    "S = {{Pembroke Campus, Bio-Med}, {Pembroke Campus, Athletic Complex}}\n",
    "\n",
    "- Método de Shrink\n",
    "    Colocamos las aristas en orden decreciente según sus pesos: 9, 7, 2.\n",
    "La arista que más peso tiene es {Athletic Complex, Bio-Med}:9. Si la quito podríamos seguir yendo a todos los nodos. El \n",
    "siguiente paso es quitar la siguiente arista de más peso que no podemos quitar porque entonces tendríamos un node incomunicado.\n",
    "\n",
    "S = {{Pembroke Campus, Bio-Med}, {Pembroke Campus, Athletic Complex}}"
   ]
  },
  {
   "cell_type": "markdown",
   "metadata": {},
   "source": []
  },
  {
   "cell_type": "markdown",
   "metadata": {},
   "source": [
    "<span style=\"color:blue\"> Ejercicio 12:  \n",
    "Sea la matriz $\n",
    "  M=\n",
    "  \\left[ {\\begin{array}{cc}\n",
    "   1 & 0  & 0 & 5 \\\\\n",
    "   0 & 2  & 0 & 7 \\\\\n",
    "   0 & 0  & 3 & 9 \\\\\n",
    "  \\end{array} } \\right]\n",
    "$. Calcular el rango por filas y por columnas usando Python.</style> "
   ]
  },
  {
   "cell_type": "code",
   "execution_count": 18,
   "metadata": {},
   "outputs": [
    {
     "data": {
      "text/plain": [
       "3"
      ]
     },
     "execution_count": 18,
     "metadata": {},
     "output_type": "execute_result"
    }
   ],
   "source": [
    "import numpy as np\n",
    "M=np.matrix([\n",
    "    [1,0,0,5],\n",
    "    [0,2,0,7],\n",
    "    [0,0,3,9]\n",
    "])\n",
    "rangoM=np.linalg.matrix_rank(M)\n",
    "rangoM"
   ]
  },
  {
   "cell_type": "code",
   "execution_count": 19,
   "metadata": {},
   "outputs": [
    {
     "data": {
      "text/plain": [
       "3"
      ]
     },
     "execution_count": 19,
     "metadata": {},
     "output_type": "execute_result"
    }
   ],
   "source": [
    "import numpy as np\n",
    "M=np.matrix([\n",
    "    [1,0,0,5],\n",
    "    [0,2,0,7],\n",
    "    [0,0,3,9]\n",
    "])\n",
    "MT=np.transpose(M)\n",
    "rangoMT=np.linalg.matrix_rank(MT)\n",
    "rangoMT"
   ]
  },
  {
   "cell_type": "markdown",
   "metadata": {
    "collapsed": true
   },
   "source": [
    "<span style=\"color:blue\"> Ejercicio 13 (opcional):  \n",
    "Crea un algoritmo que transforme una matriz cualquiera en GF(2) en una matriz escalonada.</style> "
   ]
  },
  {
   "cell_type": "code",
   "execution_count": null,
   "metadata": {},
   "outputs": [],
   "source": []
  },
  {
   "cell_type": "markdown",
   "metadata": {},
   "source": [
    "<span style=\"color:blue\"> Ejercicio 14:  \n",
    "Modificar lo necesario en los algoritmos para que funcionen y calculen el problema de la casa en llamas.</style>"
   ]
  },
  {
   "cell_type": "code",
   "execution_count": 20,
   "metadata": {},
   "outputs": [
    {
     "name": "stdout",
     "output_type": "stream",
     "text": [
      "Punto mas cercano a b es:  [[3. 1.]]\n",
      "La distancia a pto B es:  3.1622776601683795\n"
     ]
    }
   ],
   "source": [
    "def calcSigma (a,b):\n",
    "    return np.sum(np.multiply(a,b))/np.sum(np.multiply(a,a))\n",
    "\n",
    "def puntoMasCercanoAPtoB(sigma,a):\n",
    "    return sigma*np.array(a)\n",
    "\n",
    "def distanciaAptoB(ptoB,b):\n",
    "    return(np.linalg.norm(np.subtract(b, ptoB)))\n",
    " \n",
    "import numpy as np\n",
    "a=np.array([[6,2]])\n",
    "b=np.array([[2,4]])\n",
    "\n",
    "sigma = calcSigma(a,b)\n",
    "calcPuntoMasCercanoAPtoB = puntoMasCercanoAPtoB(sigma,a)\n",
    "print (\"Punto mas cercano a b es: \", calcPuntoMasCercanoAPtoB)\n",
    "distanciaAB =distanciaAptoB(calcPuntoMasCercanoAPtoB,b)\n",
    "print (\"La distancia a pto B es: \", distanciaAB)\n",
    "\n",
    "## Como la distancia a la casa es < 3,5 => la casa se salva"
   ]
  },
  {
   "cell_type": "code",
   "execution_count": null,
   "metadata": {},
   "outputs": [],
   "source": []
  }
 ],
 "metadata": {
  "kernelspec": {
   "display_name": "Python 3",
   "language": "python",
   "name": "python3"
  },
  "language_info": {
   "codemirror_mode": {
    "name": "ipython",
    "version": 3
   },
   "file_extension": ".py",
   "mimetype": "text/x-python",
   "name": "python",
   "nbconvert_exporter": "python",
   "pygments_lexer": "ipython3",
   "version": "3.6.3"
  }
 },
 "nbformat": 4,
 "nbformat_minor": 2
}
